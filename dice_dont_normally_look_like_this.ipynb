{
  "nbformat": 4,
  "nbformat_minor": 0,
  "metadata": {
    "colab": {
      "provenance": []
    },
    "kernelspec": {
      "name": "python3",
      "display_name": "Python 3"
    },
    "language_info": {
      "name": "python"
    }
  },
  "cells": [
    {
      "cell_type": "code",
      "source": [
        "import numpy as np\n",
        "import numpy.random as rand\n",
        "import matplotlib.pyplot as plt\n",
        "from matplotlib import colormaps\n",
        "from itertools import combinations_with_replacement"
      ],
      "metadata": {
        "id": "rczsnbW4Qwwo"
      },
      "execution_count": 3,
      "outputs": []
    },
    {
      "cell_type": "code",
      "execution_count": 11,
      "metadata": {
        "colab": {
          "base_uri": "https://localhost:8080/",
          "height": 430
        },
        "id": "oa3lCirR5b_m",
        "outputId": "8ceb6db4-dc84-4a83-924f-414af7669190"
      },
      "outputs": [
        {
          "output_type": "display_data",
          "data": {
            "text/plain": [
              "<Figure size 640x480 with 1 Axes>"
            ],
            "image/png": "[encoded data removed]"
          },
          "metadata": {}
        }
      ],
      "source": [
        "# Set the seed to any value to create a consistent notebook\n",
        "#rand.seed(12333)\n",
        "\n",
        "plasma = colormaps['plasma']\n",
        "\n",
        "# For dice with the following faces,\n",
        "die_1 = np.array([1, 2, 3, 4, 5, 6])\n",
        "die_2 = np.array([1, 2, 3, 4, 5, 6])\n",
        "\n",
        "\"\"\"\n",
        "Rolls each die specified in dice and returns the sum of the faces.\n",
        "\"\"\"\n",
        "def sum_dice(dice):\n",
        "  return sum(rand.choice(die) for die in dice)\n",
        "\n",
        "N = 1000\n",
        "results = np.zeros((N, 1))\n",
        "\n",
        "# Roll the dice N times and store the sums\n",
        "for i in range(N):\n",
        "  results[i] = sum_dice([die_1, die_2])\n",
        "\n",
        "\n",
        "fig, ax = plt.subplots()\n",
        "\n",
        "# Visualize the sum as a bar chart\n",
        "buffer = 1 / 2\n",
        "vals, frq = np.unique(results, return_counts=True)\n",
        "ax.bar(vals, frq / np.sum(frq), width=0.95, color=plasma(0.05))\n",
        "ax.set_xlim(np.min(vals) - buffer, np.max(vals) + buffer)\n",
        "ax.set_xticks(range(np.min(vals.astype(int)), np.max(vals.astype(int))+1))\n",
        "pass"
      ]
    },
    {
      "cell_type": "markdown",
      "source": [
        "We can see that with a naive experiment (perhaps using too few samples as above, try rerunning the cell for increasing ```N``` until you obtain consistent result), it may be difficult to use the experimental distribution to compare sets of dice."
      ],
      "metadata": {
        "id": "9UK_kwkZgxS_"
      }
    },
    {
      "cell_type": "markdown",
      "source": [
        "Consider the sum of the Cartesian product (which I will call the Cartesian sum) has an interesting property for 2 dice (below I give examples for 2 six sided die, then 2 8 sided die)."
      ],
      "metadata": {
        "id": "_KGULdz_cdL1"
      }
    },
    {
      "cell_type": "code",
      "source": [
        "\"\"\"\n",
        "The sum of the Cartesian product for the set of dice.\n",
        "Enumerates all of the possible sums of the dice and returns\n",
        "them in a consistent order.\n",
        "\"\"\"\n",
        "def cartesian_sum(dice):\n",
        "  return np.sum(np.dstack(np.meshgrid(*dice)).reshape(-1, len(dice)), axis=1)\n",
        "\n",
        "# For dice with the following side numbers\n",
        "# Assuming standard dice (a 4 sided die has faces [1,2,3,4], etc.)\n",
        "for i in 4, 6, 8:\n",
        "  print(cartesian_sum(2*[range(1, i+1)]).reshape(i, i))"
      ],
      "metadata": {
        "colab": {
          "base_uri": "https://localhost:8080/"
        },
        "id": "LzWb0qE_cR8_",
        "outputId": "5d568aa7-f8c0-4939-b075-e0b733aaf78a"
      },
      "execution_count": 5,
      "outputs": [
        {
          "output_type": "stream",
          "name": "stdout",
          "text": [
            "[[2 3 4 5]\n",
            " [3 4 5 6]\n",
            " [4 5 6 7]\n",
            " [5 6 7 8]]\n",
            "[[ 2  3  4  5  6  7]\n",
            " [ 3  4  5  6  7  8]\n",
            " [ 4  5  6  7  8  9]\n",
            " [ 5  6  7  8  9 10]\n",
            " [ 6  7  8  9 10 11]\n",
            " [ 7  8  9 10 11 12]]\n",
            "[[ 2  3  4  5  6  7  8  9]\n",
            " [ 3  4  5  6  7  8  9 10]\n",
            " [ 4  5  6  7  8  9 10 11]\n",
            " [ 5  6  7  8  9 10 11 12]\n",
            " [ 6  7  8  9 10 11 12 13]\n",
            " [ 7  8  9 10 11 12 13 14]\n",
            " [ 8  9 10 11 12 13 14 15]\n",
            " [ 9 10 11 12 13 14 15 16]]\n"
          ]
        }
      ]
    },
    {
      "cell_type": "code",
      "source": [
        "# The expected distribution is outlined in red\n",
        "# TODO: Some measure of the variance outlined in orange\n",
        "# Since it follows a multinomial distribution (explain)\n",
        "# (it must since we can enumerate all of equiprobable outcomes)\n",
        "\n",
        "# The form of the variance for the multinomial is\n",
        "# Var(X_i) = n p_i(1 - p_i)\n",
        "# n is the number of trials\n",
        "# p_i is the probablitity of the ith sum\n",
        "n = 6\n",
        "target = np.sort(cartesian_sum(2*[range(1, n+1)]))\n",
        "vals, frq = np.unique(target, return_counts=True)\n",
        "p_i = frq / np.power(n, 2)\n",
        "std = np.sqrt(vals.shape[0] * p_i * (1 - p_i))\n",
        "\n",
        "# Wald confidence for binomials\n",
        "# I guess we are treating everything independently here.\n",
        "# https://stackoverflow.com/questions/10029588/python-implementation-of-the-wilson-score-interval\n",
        "def confidence(phat, z):\n",
        "  #z = 1.96 #1.44 = 85%, 1.96 = 95%\n",
        "  return ((phat + z*z/(2*N) - z * np.sqrt((phat*(1-phat)+z*z/(4*N))/N))/(1+z*z/N))\n",
        "\n",
        "ax.errorbar(x=vals,\n",
        "            y=frq / np.sum(frq),\n",
        "            yerr=confidence(p_i, 2.576),\n",
        "            marker='_',\n",
        "            linestyle='',\n",
        "            markersize=10,\n",
        "            markeredgecolor=plasma(0.6),\n",
        "            markerfacecolor=plasma(0.6),\n",
        "            c=plasma(0.75)\n",
        "            )\n",
        "fig"
      ],
      "metadata": {
        "colab": {
          "base_uri": "https://localhost:8080/",
          "height": 430
        },
        "id": "gP1akjBf7ewR",
        "outputId": "9daa76d4-0d27-4163-809d-1a27d1b4effd"
      },
      "execution_count": 13,
      "outputs": [
        {
          "output_type": "execute_result",
          "data": {
            "text/plain": [
              "<Figure size 640x480 with 1 Axes>"
            ],
            "image/png": "[encoded data removed]"
          },
          "metadata": {},
          "execution_count": 13
        }
      ]
    },
    {
      "cell_type": "markdown",
      "source": [
        "Notice the beautiful symmetry. For 2 identical dice with $n$ sides, the sum of their outcomes follows a simple tabular pattern: one 2, two 3s, three 4s, ..., $n$ lots of $n+1$, then decreasing again! Or as a generalized table,\n",
        "\n",
        "| sum             | 2 | 3 | 4 | 5 | $\\cdots$ | $n + 1$ | $n + 2$ | $\\cdots$ | $2n$ |\n",
        "| ---             |---|---|---|---| ---      | ---     | ---     | ---      | ---  |\n",
        "| representations | 1 | 2 | 3 | 4 | $\\cdots$ | $n$     | $n - 1$ | $\\cdots$ | 1    |\n",
        "\n",
        "For two dice with $n$ sides each labelled $x_{jl}$, with $j = 1, 2, \\cdots n$ (WLOG assume $x_{jl}$ to be ordered in $j$) and $l = 1, 2$ specifying the identity of the die (as we allow each dice to have different faces), a solution satisfies the following system of $i$ equalities:\n",
        "\n",
        "$$\\#\\{(k,\\, m)\\; |\\; x_{k1} + x_{m2} = 2\\} = 1$$\n",
        "\n",
        "$$\\#\\{(k,\\, m)\\; |\\; x_{k1} + x_{m2} = 3\\} = 2$$\n",
        "\n",
        "$$\\vdots$$\n",
        "\n",
        "$$\\#\\{(k,\\, m)\\; |\\; x_{k1} + x_{m2} = n + 1\\} = n$$\n",
        "\n",
        "$$\\vdots$$\n",
        "\n",
        "$$\\#\\{(k,\\, m)\\; |\\; x_{k1} + x_{m2} = 2n\\} = 1$$\n",
        "\n",
        "following the table above, where the notation $\\#\\{\\}$ is used to mean the number of elements (in this case, pairs $(k,\\, m)$) in the set. This means in order to do a brute force search, identifying identical distribution is equivalent to ensuring the ordered sum's number of representations is exactly equal to that of the equal, unaltered dice. The pattern becomes, in more formal notation for each $i$:\n",
        "\n",
        "$$\\#\\{(k,\\, m)\\; |\\; x_{j1} + x_{k2} = 2i\\} = r_i$$\n",
        "\n",
        "where\n",
        "$$\n",
        "r_i =\n",
        "\\begin{cases}\n",
        "i & \\text{ if } i \\leq n\\\\\n",
        "n - i & \\text{ otherwise }\n",
        "\\end{cases}\n",
        "$$\n",
        "\n",
        "In other words, for the count of sums below,\n",
        "\n",
        "$$\n",
        "s_{i}(x_{j1}, x_{j2}) =\n",
        "\\sum_{k=1}^n \\sum_{m=1}^n \\mathbf{1}_{x_{k1} + x_{m2} = 2i}\n",
        "$$\n",
        "\n",
        "we require $s_i ≡ r_i$, where $\\mathbf{1}$ is the indicator function. This is the same system of equalities in $i$, and we should clarify the solution space. The $x_{jl}$ should be positive integers, and clearly will not exceed $2n-1$. Another important fact for reducing the search space is that $x_{1l} \\equiv 1$, since we need to be able to roll the minimum."
      ],
      "metadata": {
        "id": "ktWhQMO_dOrX"
      }
    },
    {
      "cell_type": "code",
      "source": [
        "# A naive, brute force approach:\n",
        "def dice_space(n=6):\n",
        "  space = combinations_with_replacement(range(1, 2*n-1), n-1)\n",
        "  for faces in space:\n",
        "    yield (1, *faces)\n",
        "\n",
        "def grid_search_dice(n):\n",
        "  target = np.sort(cartesian_sum(2*[range(1, n+1)]))\n",
        "  dice_space_1 = dice_space(n)\n",
        "\n",
        "  for die_1 in dice_space_1:\n",
        "    dice_space_2 = dice_space(n)\n",
        "    for die_2 in dice_space_2:\n",
        "      distribution = np.sort(np.ravel(cartesian_sum([die_1, die_2])))\n",
        "      if np.all(distribution == target):\n",
        "        print(f'{die_1} and {die_2} have the desired properties.')\n",
        "\n",
        "grid_search_dice(6)\n"
      ],
      "metadata": {
        "colab": {
          "base_uri": "https://localhost:8080/"
        },
        "id": "YE6wpqLzWw_0",
        "outputId": "1d1e108d-8561-4425-fb54-203d558c1813"
      },
      "execution_count": 33,
      "outputs": [
        {
          "output_type": "stream",
          "name": "stdout",
          "text": [
            "(1, 2, 2, 3, 3, 4) and (1, 3, 4, 5, 6, 8) have the desired properties.\n",
            "(1, 2, 3, 4, 5, 6) and (1, 2, 3, 4, 5, 6) have the desired properties.\n",
            "(1, 3, 4, 5, 6, 8) and (1, 2, 2, 3, 3, 4) have the desired properties.\n"
          ]
        }
      ]
    },
    {
      "cell_type": "code",
      "source": [
        "grid_search_dice(8)"
      ],
      "metadata": {
        "id": "uiyION20cY_5"
      },
      "execution_count": null,
      "outputs": []
    },
    {
      "cell_type": "markdown",
      "source": [
        "More generally, the counts can be generated in the following way: for $l = 1,\\cdots, N$ dice each with $n_l$ sides each with faces $x_{jl}$:"
      ],
      "metadata": {
        "id": "6B9wEIX4j7ZB"
      }
    }
  ]
}