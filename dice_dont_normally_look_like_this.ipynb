{
  "cells": [
    {
      "cell_type": "code",
      "execution_count": 1,
      "metadata": {
        "id": "rczsnbW4Qwwo"
      },
      "outputs": [],
      "source": [
        "import numpy as np\n",
        "import numpy.random as rand\n",
        "import matplotlib.pyplot as plt\n",
        "from matplotlib import colormaps"
      ]
    },
    {
      "cell_type": "markdown",
      "metadata": {},
      "source": [
        "# Problem Statement"
      ]
    },
    {
      "cell_type": "markdown",
      "metadata": {},
      "source": [
        "Suppose you have a pair of fair dice each with $n$ sides, numbered 1 through $n$. Consider the distribution of the sum of the dice rolls. Are there any other pairs of dice each with $n$ sides that have the same distribution (using only positive integers for the dice faces)?  Consider only the cases $n = 4, 6, 8$."
      ]
    },
    {
      "cell_type": "markdown",
      "metadata": {},
      "source": [
        "# Approach and Solution"
      ]
    },
    {
      "cell_type": "markdown",
      "metadata": {},
      "source": [
        "## Part 1: Investigating the Problem; Can we use Monte Carlo?\n",
        "Is it feasible to do Monte Carlo simulations to create the right dice?"
      ]
    },
    {
      "cell_type": "code",
      "execution_count": 2,
      "metadata": {
        "colab": {
          "base_uri": "https://localhost:8080/",
          "height": 430
        },
        "id": "oa3lCirR5b_m",
        "outputId": "8ceb6db4-dc84-4a83-924f-414af7669190"
      },
      "outputs": [
        {
          "data": {
            "image/png": "[encoded data removed]",
            "text/plain": [
              "<Figure size 640x480 with 1 Axes>"
            ]
          },
          "metadata": {},
          "output_type": "display_data"
        }
      ],
      "source": [
        "# Set the seed to any value to create a consistent notebook\n",
        "#rand.seed(12333)\n",
        "\n",
        "plasma = colormaps['plasma']\n",
        "\n",
        "# For dice with the following faces,\n",
        "die_1 = np.array([1, 2, 3, 4, 5, 6])\n",
        "die_2 = np.array([1, 2, 3, 4, 5, 6])\n",
        "\n",
        "\"\"\"\n",
        "Rolls each die specified in dice and returns the sum of the faces.\n",
        "\"\"\"\n",
        "def sum_dice(dice):\n",
        "  return sum(rand.choice(die) for die in dice)\n",
        "\n",
        "N = 1000\n",
        "results = np.zeros((N, 1))\n",
        "\n",
        "# Roll the dice N times and store the sums\n",
        "for i in range(N):\n",
        "  results[i] = sum_dice([die_1, die_2])\n",
        "\n",
        "\n",
        "fig, ax = plt.subplots()\n",
        "\n",
        "# Visualize the sum as a bar chart\n",
        "buffer = 1 / 2\n",
        "vals, frq = np.unique(results, return_counts=True)\n",
        "ax.bar(vals, frq / np.sum(frq), width=0.95, color=plasma(0.05))\n",
        "ax.set_xlim(np.min(vals) - buffer, np.max(vals) + buffer)\n",
        "ax.set_xticks(range(np.min(vals.astype(int)), np.max(vals.astype(int))+1))\n",
        "pass"
      ]
    },
    {
      "cell_type": "markdown",
      "metadata": {
        "id": "9UK_kwkZgxS_"
      },
      "source": [
        "We can see that with a naive experiment (perhaps using too few samples as above, you can try rerunning the cell for increasing ```N``` until you obtain a consistent result), it may be difficult to use the experimental distribution to compare sets of dice."
      ]
    },
    {
      "cell_type": "markdown",
      "metadata": {
        "id": "_KGULdz_cdL1"
      },
      "source": [
        "The sum of the Cartesian product (which I will call the Cartesian sum) has an interesting property for 2 dice (below I give examples for 2 six sided die, then 2 8 sided die)."
      ]
    },
    {
      "cell_type": "code",
      "execution_count": 3,
      "metadata": {
        "colab": {
          "base_uri": "https://localhost:8080/"
        },
        "id": "LzWb0qE_cR8_",
        "outputId": "5d568aa7-f8c0-4939-b075-e0b733aaf78a"
      },
      "outputs": [
        {
          "name": "stdout",
          "output_type": "stream",
          "text": [
            "[[2 3 4 5]\n",
            " [3 4 5 6]\n",
            " [4 5 6 7]\n",
            " [5 6 7 8]]\n",
            "[[ 2  3  4  5  6  7]\n",
            " [ 3  4  5  6  7  8]\n",
            " [ 4  5  6  7  8  9]\n",
            " [ 5  6  7  8  9 10]\n",
            " [ 6  7  8  9 10 11]\n",
            " [ 7  8  9 10 11 12]]\n",
            "[[ 2  3  4  5  6  7  8  9]\n",
            " [ 3  4  5  6  7  8  9 10]\n",
            " [ 4  5  6  7  8  9 10 11]\n",
            " [ 5  6  7  8  9 10 11 12]\n",
            " [ 6  7  8  9 10 11 12 13]\n",
            " [ 7  8  9 10 11 12 13 14]\n",
            " [ 8  9 10 11 12 13 14 15]\n",
            " [ 9 10 11 12 13 14 15 16]]\n"
          ]
        }
      ],
      "source": [
        "from funcs import cartesian_sum\n",
        "\n",
        "# For dice with the following side numbers\n",
        "# Assuming standard dice (a 4 sided die has faces [1,2,3,4], etc.)\n",
        "for i in 4, 6, 8:\n",
        "  print(cartesian_sum(2*[range(1, i+1)]).reshape(i, i))"
      ]
    },
    {
      "cell_type": "markdown",
      "metadata": {},
      "source": [
        "Notice the beautiful symmetry. For 2 identical dice with $n$ sides, the sum of their outcomes follows a simple tabular pattern: one 2, two 3s, three 4s, ..., $n$ lots of $n+1$, then decreasing again! Or as a generalized table,\n",
        "\n",
        "| sum             | 2 | 3 | 4 | 5 | $\\cdots$ | $n + 1$ | $n + 2$ | $\\cdots$ | $2n$ |\n",
        "| ---             |---|---|---|---| ---      | ---     | ---     | ---      | ---  |\n",
        "| representations | 1 | 2 | 3 | 4 | $\\cdots$ | $n$     | $n - 1$ | $\\cdots$ | 1    |"
      ]
    },
    {
      "cell_type": "markdown",
      "metadata": {},
      "source": [
        "This is similar to the pattern shown in the video."
      ]
    },
    {
      "cell_type": "code",
      "execution_count": 4,
      "metadata": {
        "colab": {
          "base_uri": "https://localhost:8080/",
          "height": 430
        },
        "id": "gP1akjBf7ewR",
        "outputId": "9daa76d4-0d27-4163-809d-1a27d1b4effd"
      },
      "outputs": [
        {
          "data": {
            "image/png": "[encoded data removed]",
            "text/plain": [
              "<Figure size 640x480 with 1 Axes>"
            ]
          },
          "execution_count": 4,
          "metadata": {},
          "output_type": "execute_result"
        }
      ],
      "source": [
        "# The expected distribution is outlined in red\n",
        "# The variance is outlined in orange,\n",
        "# since it follows a multinomial distribution \n",
        "# (since we can enumerate all of equiprobable outcomes)\n",
        "\n",
        "# The form of the variance for the multinomial is\n",
        "# Var(X_i) = n p_i(1 - p_i)\n",
        "# n is the number of trials\n",
        "# p_i is the probablitity of the ith sum\n",
        "n = 6\n",
        "target = np.sort(cartesian_sum(2*[range(1, n+1)]))\n",
        "vals, frq = np.unique(target, return_counts=True)\n",
        "p_i = frq / np.power(n, 2)\n",
        "std = np.sqrt(vals.shape[0] * p_i * (1 - p_i))\n",
        "\n",
        "# Wilson confidence for binomials\n",
        "# I use a Wilson score to approximate the multinomial confidence interval.\n",
        "# Although there should be some adjustment for multiple comparison (which is not done here)\n",
        "# https://stackoverflow.com/questions/10029588/python-implementation-of-the-wilson-score-interval\n",
        "def confidence(phat, z):\n",
        "  #z = 1.96 #1.44 = 85%, 1.96 = 95%\n",
        "  return ((phat + z*z/(2*N) - z * np.sqrt((phat*(1-phat)+z*z/(4*N))/N))/(1+z*z/N))\n",
        "\n",
        "ax.errorbar(x=vals,\n",
        "            y=frq / np.sum(frq), # The expecation of the multinomial\n",
        "            yerr=confidence(p_i, 2.576),\n",
        "            marker='_',\n",
        "            linestyle='',\n",
        "            markersize=10,\n",
        "            markeredgecolor=plasma(0.6),\n",
        "            markerfacecolor=plasma(0.6),\n",
        "            c=plasma(0.75)\n",
        "            )\n",
        "fig"
      ]
    },
    {
      "cell_type": "markdown",
      "metadata": {},
      "source": [
        "## Part 2: Analytic Approach and Combinations"
      ]
    },
    {
      "cell_type": "markdown",
      "metadata": {
        "id": "ktWhQMO_dOrX"
      },
      "source": [
        "For two dice with $n$ sides each labelled $x_{jl}$, with $j = 1, 2, \\cdots n$ (WLOG assume $x_{jl}$ to be ordered in $j$) and $l = 1, 2$ specifying the identity of the die (as we allow each dice to have different faces), a solution satisfies the following system of $i$ equalities:\n",
        "\n",
        "$$\\#\\{(k,\\, m)\\; |\\; x_{k1} + x_{m2} = 2\\} = 1$$\n",
        "\n",
        "$$\\#\\{(k,\\, m)\\; |\\; x_{k1} + x_{m2} = 3\\} = 2$$\n",
        "\n",
        "$$\\vdots$$\n",
        "\n",
        "$$\\#\\{(k,\\, m)\\; |\\; x_{k1} + x_{m2} = n + 1\\} = n$$\n",
        "\n",
        "$$\\vdots$$\n",
        "\n",
        "$$\\#\\{(k,\\, m)\\; |\\; x_{k1} + x_{m2} = 2n\\} = 1$$\n",
        "\n",
        "following the table above, where the notation $\\#\\{\\}$ is used to mean the number of elements (in this case, pairs $(k,\\, m)$) in the set. This means in order to do a brute force search, identifying identical distribution is equivalent to ensuring the ordered sum's number of representations is exactly equal to that of the equal, unaltered dice. The pattern becomes, in more formal notation for each $i$:\n",
        "\n",
        "$$\\#\\{(k,\\, m)\\; |\\; x_{j1} + x_{k2} = 2i\\} = r_i$$\n",
        "\n",
        "where\n",
        "$$\n",
        "r_i =\n",
        "\\begin{cases}\n",
        "i & \\text{ if } i \\leq n\\\\\n",
        "n - i & \\text{ otherwise }\n",
        "\\end{cases}\n",
        "$$\n",
        "\n",
        "In other words, for the count of sums below,\n",
        "\n",
        "$$\n",
        "s_{i}(x_{j1}, x_{j2}) =\n",
        "\\sum_{k=1}^n \\sum_{m=1}^n \\mathbf{1}_{x_{k1} + x_{m2} = 2i}\n",
        "$$\n",
        "\n",
        "we require $s_i ≡ r_i$, where $\\mathbf{1}$ is the indicator function. This is the same system of equalities in $i$, and we should clarify the solution space. The $x_{jl}$ should be positive integers, and clearly will not exceed $2n-1$. Another important fact for reducing the search space is that $x_{1l} \\equiv 1$, since we need to be able to roll the minimum."
      ]
    },
    {
      "cell_type": "code",
      "execution_count": 5,
      "metadata": {
        "colab": {
          "base_uri": "https://localhost:8080/"
        },
        "id": "YE6wpqLzWw_0",
        "outputId": "1d1e108d-8561-4425-fb54-203d558c1813"
      },
      "outputs": [
        {
          "name": "stdout",
          "output_type": "stream",
          "text": [
            "Grid search for 2 dice of size 4 took 0.01799750328063965 seconds.\n",
            "Solutions are: [((1, 2, 2, 3), (1, 3, 3, 5)), ((1, 2, 3, 4), (1, 2, 3, 4))]\n",
            "Grid search for 2 dice of size 4 computed in parallel took 0.3688788414001465 seconds.\n",
            "Solutions are: [((1, 2, 2, 3), (1, 3, 3, 5)), ((1, 2, 3, 4), (1, 2, 3, 4))]\n",
            "Grid search for 2 dice of size 6 took 2.1144063472747803 seconds.\n",
            "Solutions are: [((1, 2, 2, 3, 3, 4), (1, 3, 4, 5, 6, 8)), ((1, 2, 3, 4, 5, 6), (1, 2, 3, 4, 5, 6))]\n",
            "Grid search for 2 dice of size 6 computed in parallel took 0.8782117366790771 seconds.\n",
            "Solutions are: [((1, 2, 2, 3, 3, 4), (1, 3, 4, 5, 6, 8)), ((1, 2, 3, 4, 5, 6), (1, 2, 3, 4, 5, 6))]\n"
          ]
        }
      ],
      "source": [
        "from funcs import grid_search_dice\n",
        "import time\n",
        "# A naive, brute force approach:\n",
        "\n",
        "grid = zip([4, 4, 6, 6], [False, True, False, True])\n",
        "results = {}\n",
        "times = []\n",
        "times.append(time.time())\n",
        "for args in grid:\n",
        "    results[args] = grid_search_dice(args[0], parallel=args[1])\n",
        "    times.append(time.time())\n",
        "\n",
        "for i, result in enumerate(results):\n",
        "    print(f'Grid search for 2 dice of size {result[0]} {'computed in parallel ' if result[1] else ''}took {times[i+1] - times[i]} seconds.')\n",
        "    print(f'Solutions are: {results[result]}')"
      ]
    },
    {
      "cell_type": "markdown",
      "metadata": {},
      "source": [
        "## Solution: "
      ]
    },
    {
      "cell_type": "code",
      "execution_count": 6,
      "metadata": {
        "id": "uiyION20cY_5"
      },
      "outputs": [
        {
          "name": "stdout",
          "output_type": "stream",
          "text": [
            "Grid search for 2 dice of size 8 computed in parallel took 263.2604787349701 seconds.\n",
            "The following are solutions:\n",
            "((1, 2, 2, 3, 3, 4, 4, 5), (1, 3, 5, 5, 7, 7, 9, 11))\n",
            "((1, 2, 2, 3, 5, 6, 6, 7), (1, 3, 3, 5, 5, 7, 7, 9))\n",
            "((1, 2, 3, 3, 4, 4, 5, 6), (1, 2, 5, 5, 6, 6, 9, 10))\n",
            "((1, 2, 3, 4, 5, 6, 7, 8), (1, 2, 3, 4, 5, 6, 7, 8))\n"
          ]
        }
      ],
      "source": [
        "n = 8\n",
        "\n",
        "start_time = time.time()\n",
        "result = grid_search_dice(n, parallel=True)\n",
        "end_time = time.time()\n",
        "\n",
        "print(f'Grid search for 2 dice of size {n} computed in parallel took {end_time - start_time} seconds.')\n",
        "print('The following are solutions:')\n",
        "for dice_set in result:\n",
        "    print(f'{dice_set}')"
      ]
    },
    {
      "cell_type": "markdown",
      "metadata": {},
      "source": [
        "So the solutions are:"
      ]
    },
    {
      "cell_type": "markdown",
      "metadata": {},
      "source": [
        "1: (1, 2, 2, 3, 3, 4, 4, 5), (1, 3, 5, 5, 7, 7, 9, 11) \n",
        "\n",
        "2: (1, 2, 2, 3, 5, 6, 6, 7), (1, 3, 3, 5, 5, 7, 7, 9) \n",
        "\n",
        "3: (1, 2, 3, 3, 4, 4, 5, 6), (1, 2, 5, 5, 6, 6, 9, 10) \n",
        "\n",
        "4: (1, 2, 3, 4, 5, 6, 7, 8), (1, 2, 3, 4, 5, 6, 7, 8)"
      ]
    },
    {
      "cell_type": "markdown",
      "metadata": {},
      "source": [
        "Turns out we had to use parallel processing to speed the computation up! The approximate size of search space for two dice of size 8 is computed in the next cell, and several tricks were used to cut the space down in the grid search."
      ]
    },
    {
      "cell_type": "code",
      "execution_count": 7,
      "metadata": {},
      "outputs": [
        {
          "name": "stdout",
          "output_type": "stream",
          "text": [
            "For 2 4-sided die, the search space could be as large as 65,536 sets of dice.\n",
            "For 2 6-sided die, the search space could be as large as 2,176,782,336 sets of dice.\n",
            "For 2 8-sided die, the search space could be as large as 281,474,976,710,656 sets of dice.\n"
          ]
        }
      ],
      "source": [
        "for i in [4, 6, 8]:\n",
        "    N = (i ** i) ** 2\n",
        "    print(f'For 2 {i}-sided die, the search space could be as large as {N:,} sets of dice.')"
      ]
    },
    {
      "cell_type": "code",
      "execution_count": 8,
      "metadata": {},
      "outputs": [
        {
          "data": {
            "image/png": "[encoded data removed]",
            "text/plain": [
              "<Figure size 640x480 with 1 Axes>"
            ]
          },
          "metadata": {},
          "output_type": "display_data"
        }
      ],
      "source": [
        "# Do these result in the same final distribution?\n",
        "n = 8\n",
        "dice_sets = [dice_set for dice_set in result]\n",
        "N = 10000\n",
        "\n",
        "roll_sums = np.zeros((N, len(dice_sets)))\n",
        "\n",
        "\n",
        "for i in range(N):\n",
        "    for j, dice_set in enumerate(dice_sets):\n",
        "        roll_sums[i][j] = sum_dice(dice_set)\n",
        "\n",
        "\n",
        "fig, ax = plt.subplots()\n",
        "\n",
        "# Visualize the sum as a bar chart\n",
        "buffer = 1 / 2\n",
        "hists = np.zeros((len(dice_sets), 2 * n - 1))\n",
        "\n",
        "for i, col in enumerate(roll_sums.T):\n",
        "    vals, frq = np.unique(col, return_counts=True, axis=0)\n",
        "    hists[i, ] = frq\n",
        "\n",
        "norm_hists = hists / np.sum(hists, axis=1).reshape(-1, 1)\n",
        "width_cluster = 0.95\n",
        "width_bar = width_cluster / len(dice_sets)\n",
        "\n",
        "bar_colors = [plasma(i*0.23) for i in range(len(dice_sets))]\n",
        "\n",
        "for i, dice_set in enumerate(dice_sets):\n",
        "    x_positions = vals + width_bar*i - width_cluster/2\n",
        "    ax.bar(x_positions, norm_hists[i, ], width_bar, align='edge', label=f'Solution {i+1}', color=bar_colors[i])\n",
        "\n",
        "ax.set_xlim(np.min(vals) - buffer, np.max(vals) + buffer)\n",
        "ax.set_xticks(range(np.min(vals.astype(int)), np.max(vals.astype(int))+1))\n",
        "ax.legend()\n",
        "\n",
        "pass"
      ]
    },
    {
      "cell_type": "markdown",
      "metadata": {},
      "source": [
        "From the simulation, we have experimental evidence that the dice indeed are solutions."
      ]
    },
    {
      "cell_type": "markdown",
      "metadata": {},
      "source": [
        "# Future Work, Extensions"
      ]
    },
    {
      "cell_type": "markdown",
      "metadata": {},
      "source": [
        "In order to move to dice with more faces, an analytic approach is needed (or vastly more computing power).\n",
        "\n",
        "You could look over the partitions of the correct size $(2n)$ of the total sum of the die faces $(1 + 2 + 2 + 3 + 3 + 3 + \\cdots + 2n-1 + 2n-1 + 2n)$, which is necessarily the same between valid dice.\n",
        "\n",
        "I can also envision a recursive solution that starts from the original dice and moves outwards (adding and subtracting but keeping the total sum the same)."
      ]
    }
  ],
  "metadata": {
    "colab": {
      "provenance": []
    },
    "kernelspec": {
      "display_name": "Python 3",
      "name": "python3"
    },
    "language_info": {
      "codemirror_mode": {
        "name": "ipython",
        "version": 3
      },
      "file_extension": ".py",
      "mimetype": "text/x-python",
      "name": "python",
      "nbconvert_exporter": "python",
      "pygments_lexer": "ipython3",
      "version": "3.12.1"
    }
  },
  "nbformat": 4,
  "nbformat_minor": 0
}
